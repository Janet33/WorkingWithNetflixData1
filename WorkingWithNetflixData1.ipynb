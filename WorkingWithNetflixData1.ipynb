{
 "cells": [
  {
   "cell_type": "markdown",
   "metadata": {},
   "source": [
    "By Janet Anagli"
   ]
  },
  {
   "cell_type": "markdown",
   "metadata": {},
   "source": [
    "import pandas library"
   ]
  },
  {
   "cell_type": "code",
   "execution_count": 1,
   "metadata": {},
   "outputs": [],
   "source": [
    "import pandas as pd"
   ]
  },
  {
   "cell_type": "code",
   "execution_count": 2,
   "metadata": {},
   "outputs": [
    {
     "data": {
      "text/html": [
       "<div>\n",
       "<style scoped>\n",
       "    .dataframe tbody tr th:only-of-type {\n",
       "        vertical-align: middle;\n",
       "    }\n",
       "\n",
       "    .dataframe tbody tr th {\n",
       "        vertical-align: top;\n",
       "    }\n",
       "\n",
       "    .dataframe thead th {\n",
       "        text-align: right;\n",
       "    }\n",
       "</style>\n",
       "<table border=\"1\" class=\"dataframe\">\n",
       "  <thead>\n",
       "    <tr style=\"text-align: right;\">\n",
       "      <th></th>\n",
       "      <th>Title</th>\n",
       "      <th>Date</th>\n",
       "    </tr>\n",
       "  </thead>\n",
       "  <tbody>\n",
       "    <tr>\n",
       "      <th>0</th>\n",
       "      <td>Russian Doll: Season 2: Station to Station</td>\n",
       "      <td>5/4/22</td>\n",
       "    </tr>\n",
       "    <tr>\n",
       "      <th>1</th>\n",
       "      <td>Russian Doll: Season 2: Brain Drain</td>\n",
       "      <td>5/3/22</td>\n",
       "    </tr>\n",
       "    <tr>\n",
       "      <th>2</th>\n",
       "      <td>Russian Doll: Season 2: Coney Island Baby</td>\n",
       "      <td>4/26/22</td>\n",
       "    </tr>\n",
       "    <tr>\n",
       "      <th>3</th>\n",
       "      <td>Russian Doll: Season 2: Nowhen</td>\n",
       "      <td>4/26/22</td>\n",
       "    </tr>\n",
       "    <tr>\n",
       "      <th>4</th>\n",
       "      <td>Eternally Confused and Eager for Love: Season ...</td>\n",
       "      <td>4/10/22</td>\n",
       "    </tr>\n",
       "    <tr>\n",
       "      <th>...</th>\n",
       "      <td>...</td>\n",
       "      <td>...</td>\n",
       "    </tr>\n",
       "    <tr>\n",
       "      <th>1967</th>\n",
       "      <td>The OA: Part I: Chapter 4: Away</td>\n",
       "      <td>12/22/16</td>\n",
       "    </tr>\n",
       "    <tr>\n",
       "      <th>1968</th>\n",
       "      <td>The OA: Part I: Chapter 3: Champion</td>\n",
       "      <td>12/22/16</td>\n",
       "    </tr>\n",
       "    <tr>\n",
       "      <th>1969</th>\n",
       "      <td>The OA: Part I: Chapter 2: New Colossus</td>\n",
       "      <td>12/22/16</td>\n",
       "    </tr>\n",
       "    <tr>\n",
       "      <th>1970</th>\n",
       "      <td>The OA: Part I: Chapter 1: Homecoming</td>\n",
       "      <td>12/22/16</td>\n",
       "    </tr>\n",
       "    <tr>\n",
       "      <th>1971</th>\n",
       "      <td>The Imitation Game</td>\n",
       "      <td>12/21/16</td>\n",
       "    </tr>\n",
       "  </tbody>\n",
       "</table>\n",
       "<p>1972 rows × 2 columns</p>\n",
       "</div>"
      ],
      "text/plain": [
       "                                                  Title      Date\n",
       "0            Russian Doll: Season 2: Station to Station    5/4/22\n",
       "1                   Russian Doll: Season 2: Brain Drain    5/3/22\n",
       "2             Russian Doll: Season 2: Coney Island Baby   4/26/22\n",
       "3                        Russian Doll: Season 2: Nowhen   4/26/22\n",
       "4     Eternally Confused and Eager for Love: Season ...   4/10/22\n",
       "...                                                 ...       ...\n",
       "1967                    The OA: Part I: Chapter 4: Away  12/22/16\n",
       "1968                The OA: Part I: Chapter 3: Champion  12/22/16\n",
       "1969            The OA: Part I: Chapter 2: New Colossus  12/22/16\n",
       "1970              The OA: Part I: Chapter 1: Homecoming  12/22/16\n",
       "1971                                 The Imitation Game  12/21/16\n",
       "\n",
       "[1972 rows x 2 columns]"
      ]
     },
     "execution_count": 2,
     "metadata": {},
     "output_type": "execute_result"
    }
   ],
   "source": [
    "netflix_data = pd.read_csv('NetflixViewingHistory.csv')\n",
    "netflix_data"
   ]
  },
  {
   "cell_type": "code",
   "execution_count": 3,
   "metadata": {},
   "outputs": [
    {
     "data": {
      "text/html": [
       "<div>\n",
       "<style scoped>\n",
       "    .dataframe tbody tr th:only-of-type {\n",
       "        vertical-align: middle;\n",
       "    }\n",
       "\n",
       "    .dataframe tbody tr th {\n",
       "        vertical-align: top;\n",
       "    }\n",
       "\n",
       "    .dataframe thead th {\n",
       "        text-align: right;\n",
       "    }\n",
       "</style>\n",
       "<table border=\"1\" class=\"dataframe\">\n",
       "  <thead>\n",
       "    <tr style=\"text-align: right;\">\n",
       "      <th></th>\n",
       "      <th>Title</th>\n",
       "      <th>Date</th>\n",
       "    </tr>\n",
       "  </thead>\n",
       "  <tbody>\n",
       "    <tr>\n",
       "      <th>1952</th>\n",
       "      <td>Frida</td>\n",
       "      <td>12/27/16</td>\n",
       "    </tr>\n",
       "    <tr>\n",
       "      <th>1953</th>\n",
       "      <td>2 Days in New York</td>\n",
       "      <td>12/26/16</td>\n",
       "    </tr>\n",
       "    <tr>\n",
       "      <th>1954</th>\n",
       "      <td>The Time In Between: Season 1: Episode 1</td>\n",
       "      <td>12/25/16</td>\n",
       "    </tr>\n",
       "    <tr>\n",
       "      <th>1955</th>\n",
       "      <td>Trollhunters: Tales of Arcadia: Part 1: Gnome ...</td>\n",
       "      <td>12/25/16</td>\n",
       "    </tr>\n",
       "    <tr>\n",
       "      <th>1956</th>\n",
       "      <td>Trollhunters: Tales of Arcadia: Part 1: Wheref...</td>\n",
       "      <td>12/25/16</td>\n",
       "    </tr>\n",
       "    <tr>\n",
       "      <th>1957</th>\n",
       "      <td>Trollhunters: Tales of Arcadia: Part 1: Becomi...</td>\n",
       "      <td>12/25/16</td>\n",
       "    </tr>\n",
       "    <tr>\n",
       "      <th>1958</th>\n",
       "      <td>Trollhunters: Tales of Arcadia: Part 1: Becomi...</td>\n",
       "      <td>12/25/16</td>\n",
       "    </tr>\n",
       "    <tr>\n",
       "      <th>1959</th>\n",
       "      <td>Travelers: Season 1: Pilot</td>\n",
       "      <td>12/25/16</td>\n",
       "    </tr>\n",
       "    <tr>\n",
       "      <th>1960</th>\n",
       "      <td>Californication: Season 1: Pilot</td>\n",
       "      <td>12/25/16</td>\n",
       "    </tr>\n",
       "    <tr>\n",
       "      <th>1961</th>\n",
       "      <td>Salem: Season 1: The Vow</td>\n",
       "      <td>12/25/16</td>\n",
       "    </tr>\n",
       "    <tr>\n",
       "      <th>1962</th>\n",
       "      <td>Jessie: Season 2: The Whining</td>\n",
       "      <td>12/24/16</td>\n",
       "    </tr>\n",
       "    <tr>\n",
       "      <th>1963</th>\n",
       "      <td>Jessie: Season 1: Cattle Calls &amp; Scary Walls</td>\n",
       "      <td>12/24/16</td>\n",
       "    </tr>\n",
       "    <tr>\n",
       "      <th>1964</th>\n",
       "      <td>Jessie: Season 1: The Kid Whisperer</td>\n",
       "      <td>12/24/16</td>\n",
       "    </tr>\n",
       "    <tr>\n",
       "      <th>1965</th>\n",
       "      <td>Jessie: Season 1: World Wide Web of Lies</td>\n",
       "      <td>12/24/16</td>\n",
       "    </tr>\n",
       "    <tr>\n",
       "      <th>1966</th>\n",
       "      <td>Gilmore Girls: A Year in the Life: Limited Ser...</td>\n",
       "      <td>12/23/16</td>\n",
       "    </tr>\n",
       "    <tr>\n",
       "      <th>1967</th>\n",
       "      <td>The OA: Part I: Chapter 4: Away</td>\n",
       "      <td>12/22/16</td>\n",
       "    </tr>\n",
       "    <tr>\n",
       "      <th>1968</th>\n",
       "      <td>The OA: Part I: Chapter 3: Champion</td>\n",
       "      <td>12/22/16</td>\n",
       "    </tr>\n",
       "    <tr>\n",
       "      <th>1969</th>\n",
       "      <td>The OA: Part I: Chapter 2: New Colossus</td>\n",
       "      <td>12/22/16</td>\n",
       "    </tr>\n",
       "    <tr>\n",
       "      <th>1970</th>\n",
       "      <td>The OA: Part I: Chapter 1: Homecoming</td>\n",
       "      <td>12/22/16</td>\n",
       "    </tr>\n",
       "    <tr>\n",
       "      <th>1971</th>\n",
       "      <td>The Imitation Game</td>\n",
       "      <td>12/21/16</td>\n",
       "    </tr>\n",
       "  </tbody>\n",
       "</table>\n",
       "</div>"
      ],
      "text/plain": [
       "                                                  Title      Date\n",
       "1952                                              Frida  12/27/16\n",
       "1953                                 2 Days in New York  12/26/16\n",
       "1954           The Time In Between: Season 1: Episode 1  12/25/16\n",
       "1955  Trollhunters: Tales of Arcadia: Part 1: Gnome ...  12/25/16\n",
       "1956  Trollhunters: Tales of Arcadia: Part 1: Wheref...  12/25/16\n",
       "1957  Trollhunters: Tales of Arcadia: Part 1: Becomi...  12/25/16\n",
       "1958  Trollhunters: Tales of Arcadia: Part 1: Becomi...  12/25/16\n",
       "1959                         Travelers: Season 1: Pilot  12/25/16\n",
       "1960                   Californication: Season 1: Pilot  12/25/16\n",
       "1961                           Salem: Season 1: The Vow  12/25/16\n",
       "1962                      Jessie: Season 2: The Whining  12/24/16\n",
       "1963       Jessie: Season 1: Cattle Calls & Scary Walls  12/24/16\n",
       "1964                Jessie: Season 1: The Kid Whisperer  12/24/16\n",
       "1965           Jessie: Season 1: World Wide Web of Lies  12/24/16\n",
       "1966  Gilmore Girls: A Year in the Life: Limited Ser...  12/23/16\n",
       "1967                    The OA: Part I: Chapter 4: Away  12/22/16\n",
       "1968                The OA: Part I: Chapter 3: Champion  12/22/16\n",
       "1969            The OA: Part I: Chapter 2: New Colossus  12/22/16\n",
       "1970              The OA: Part I: Chapter 1: Homecoming  12/22/16\n",
       "1971                                 The Imitation Game  12/21/16"
      ]
     },
     "execution_count": 3,
     "metadata": {},
     "output_type": "execute_result"
    }
   ],
   "source": [
    "#explore data, last 20 entries\n",
    "netflix_data.tail(20)"
   ]
  },
  {
   "cell_type": "code",
   "execution_count": 4,
   "metadata": {},
   "outputs": [
    {
     "data": {
      "text/html": [
       "<div>\n",
       "<style scoped>\n",
       "    .dataframe tbody tr th:only-of-type {\n",
       "        vertical-align: middle;\n",
       "    }\n",
       "\n",
       "    .dataframe tbody tr th {\n",
       "        vertical-align: top;\n",
       "    }\n",
       "\n",
       "    .dataframe thead th {\n",
       "        text-align: right;\n",
       "    }\n",
       "</style>\n",
       "<table border=\"1\" class=\"dataframe\">\n",
       "  <thead>\n",
       "    <tr style=\"text-align: right;\">\n",
       "      <th></th>\n",
       "      <th>Title</th>\n",
       "      <th>Date</th>\n",
       "    </tr>\n",
       "  </thead>\n",
       "  <tbody>\n",
       "    <tr>\n",
       "      <th>0</th>\n",
       "      <td>Russian Doll: Season 2: Station to Station</td>\n",
       "      <td>5/4/22</td>\n",
       "    </tr>\n",
       "    <tr>\n",
       "      <th>1</th>\n",
       "      <td>Russian Doll: Season 2: Brain Drain</td>\n",
       "      <td>5/3/22</td>\n",
       "    </tr>\n",
       "    <tr>\n",
       "      <th>2</th>\n",
       "      <td>Russian Doll: Season 2: Coney Island Baby</td>\n",
       "      <td>4/26/22</td>\n",
       "    </tr>\n",
       "    <tr>\n",
       "      <th>3</th>\n",
       "      <td>Russian Doll: Season 2: Nowhen</td>\n",
       "      <td>4/26/22</td>\n",
       "    </tr>\n",
       "    <tr>\n",
       "      <th>4</th>\n",
       "      <td>Eternally Confused and Eager for Love: Season ...</td>\n",
       "      <td>4/10/22</td>\n",
       "    </tr>\n",
       "    <tr>\n",
       "      <th>5</th>\n",
       "      <td>Eternally Confused and Eager for Love: Season ...</td>\n",
       "      <td>4/5/22</td>\n",
       "    </tr>\n",
       "    <tr>\n",
       "      <th>6</th>\n",
       "      <td>Eternally Confused and Eager for Love: Season ...</td>\n",
       "      <td>4/5/22</td>\n",
       "    </tr>\n",
       "    <tr>\n",
       "      <th>7</th>\n",
       "      <td>Eternally Confused and Eager for Love: Season ...</td>\n",
       "      <td>4/5/22</td>\n",
       "    </tr>\n",
       "    <tr>\n",
       "      <th>8</th>\n",
       "      <td>Bridgerton: Season 2: The Viscount Who Loved Me</td>\n",
       "      <td>4/4/22</td>\n",
       "    </tr>\n",
       "    <tr>\n",
       "      <th>9</th>\n",
       "      <td>Bridgerton: Season 2: Harmony</td>\n",
       "      <td>4/3/22</td>\n",
       "    </tr>\n",
       "    <tr>\n",
       "      <th>10</th>\n",
       "      <td>Bridgerton: Season 2: The Choice</td>\n",
       "      <td>4/2/22</td>\n",
       "    </tr>\n",
       "    <tr>\n",
       "      <th>11</th>\n",
       "      <td>Bridgerton: Season 2: An Unthinkable Fate</td>\n",
       "      <td>3/31/22</td>\n",
       "    </tr>\n",
       "    <tr>\n",
       "      <th>12</th>\n",
       "      <td>Bridgerton: Season 2: Victory</td>\n",
       "      <td>3/31/22</td>\n",
       "    </tr>\n",
       "    <tr>\n",
       "      <th>13</th>\n",
       "      <td>Bridgerton: Season 2: A Bee in Your Bonnet</td>\n",
       "      <td>3/30/22</td>\n",
       "    </tr>\n",
       "    <tr>\n",
       "      <th>14</th>\n",
       "      <td>Bridgerton: Season 2: Off to the Races</td>\n",
       "      <td>3/30/22</td>\n",
       "    </tr>\n",
       "    <tr>\n",
       "      <th>15</th>\n",
       "      <td>Bridgerton: Season 2: Capital R Rake</td>\n",
       "      <td>3/26/22</td>\n",
       "    </tr>\n",
       "    <tr>\n",
       "      <th>16</th>\n",
       "      <td>Eternally Confused and Eager for Love: Season ...</td>\n",
       "      <td>3/24/22</td>\n",
       "    </tr>\n",
       "    <tr>\n",
       "      <th>17</th>\n",
       "      <td>Eternally Confused and Eager for Love: Season ...</td>\n",
       "      <td>3/24/22</td>\n",
       "    </tr>\n",
       "    <tr>\n",
       "      <th>18</th>\n",
       "      <td>Eternally Confused and Eager for Love: Season ...</td>\n",
       "      <td>3/24/22</td>\n",
       "    </tr>\n",
       "    <tr>\n",
       "      <th>19</th>\n",
       "      <td>Eternally Confused and Eager for Love: Season ...</td>\n",
       "      <td>3/24/22</td>\n",
       "    </tr>\n",
       "  </tbody>\n",
       "</table>\n",
       "</div>"
      ],
      "text/plain": [
       "                                                Title     Date\n",
       "0          Russian Doll: Season 2: Station to Station   5/4/22\n",
       "1                 Russian Doll: Season 2: Brain Drain   5/3/22\n",
       "2           Russian Doll: Season 2: Coney Island Baby  4/26/22\n",
       "3                      Russian Doll: Season 2: Nowhen  4/26/22\n",
       "4   Eternally Confused and Eager for Love: Season ...  4/10/22\n",
       "5   Eternally Confused and Eager for Love: Season ...   4/5/22\n",
       "6   Eternally Confused and Eager for Love: Season ...   4/5/22\n",
       "7   Eternally Confused and Eager for Love: Season ...   4/5/22\n",
       "8     Bridgerton: Season 2: The Viscount Who Loved Me   4/4/22\n",
       "9                       Bridgerton: Season 2: Harmony   4/3/22\n",
       "10                   Bridgerton: Season 2: The Choice   4/2/22\n",
       "11          Bridgerton: Season 2: An Unthinkable Fate  3/31/22\n",
       "12                      Bridgerton: Season 2: Victory  3/31/22\n",
       "13         Bridgerton: Season 2: A Bee in Your Bonnet  3/30/22\n",
       "14             Bridgerton: Season 2: Off to the Races  3/30/22\n",
       "15               Bridgerton: Season 2: Capital R Rake  3/26/22\n",
       "16  Eternally Confused and Eager for Love: Season ...  3/24/22\n",
       "17  Eternally Confused and Eager for Love: Season ...  3/24/22\n",
       "18  Eternally Confused and Eager for Love: Season ...  3/24/22\n",
       "19  Eternally Confused and Eager for Love: Season ...  3/24/22"
      ]
     },
     "execution_count": 4,
     "metadata": {},
     "output_type": "execute_result"
    }
   ],
   "source": [
    "#explore data, first 20 entries\n",
    "netflix_data.head(20)"
   ]
  },
  {
   "cell_type": "markdown",
   "metadata": {},
   "source": [
    "a. How many entries AKA rows are in the data?"
   ]
  },
  {
   "cell_type": "code",
   "execution_count": 5,
   "metadata": {},
   "outputs": [
    {
     "data": {
      "text/plain": [
       "1972"
      ]
     },
     "execution_count": 5,
     "metadata": {},
     "output_type": "execute_result"
    }
   ],
   "source": [
    "netflix_data.shape[0]"
   ]
  },
  {
   "cell_type": "markdown",
   "metadata": {},
   "source": [
    "b. How many columns are in the data?"
   ]
  },
  {
   "cell_type": "code",
   "execution_count": 6,
   "metadata": {},
   "outputs": [
    {
     "data": {
      "text/plain": [
       "2"
      ]
     },
     "execution_count": 6,
     "metadata": {},
     "output_type": "execute_result"
    }
   ],
   "source": [
    "netflix_data.shape[1]"
   ]
  },
  {
   "cell_type": "markdown",
   "metadata": {},
   "source": [
    "c. What is the name of the first column in the data?\n"
   ]
  },
  {
   "cell_type": "code",
   "execution_count": 7,
   "metadata": {},
   "outputs": [
    {
     "data": {
      "text/plain": [
       "'Title'"
      ]
     },
     "execution_count": 7,
     "metadata": {},
     "output_type": "execute_result"
    }
   ],
   "source": [
    "netflix_data.keys()[0]"
   ]
  },
  {
   "cell_type": "markdown",
   "metadata": {},
   "source": [
    "d. What is the name of the second column in the data?"
   ]
  },
  {
   "cell_type": "code",
   "execution_count": 8,
   "metadata": {},
   "outputs": [
    {
     "data": {
      "text/plain": [
       "'Date'"
      ]
     },
     "execution_count": 8,
     "metadata": {},
     "output_type": "execute_result"
    }
   ],
   "source": [
    "netflix_data.keys()[1]"
   ]
  },
  {
   "cell_type": "markdown",
   "metadata": {},
   "source": [
    "e. How many times was an episode of the show Designated Survivor watched according to the data?"
   ]
  },
  {
   "cell_type": "code",
   "execution_count": 9,
   "metadata": {},
   "outputs": [],
   "source": [
    "# define name of first show\n",
    "show_1 = 'Designated Survivor'"
   ]
  },
  {
   "cell_type": "code",
   "execution_count": 10,
   "metadata": {},
   "outputs": [
    {
     "data": {
      "text/plain": [
       "0              Russian Doll: Season 2: Station to Station\n",
       "1                     Russian Doll: Season 2: Brain Drain\n",
       "2               Russian Doll: Season 2: Coney Island Baby\n",
       "3                          Russian Doll: Season 2: Nowhen\n",
       "4       Eternally Confused and Eager for Love: Season ...\n",
       "                              ...                        \n",
       "1967                      The OA: Part I: Chapter 4: Away\n",
       "1968                  The OA: Part I: Chapter 3: Champion\n",
       "1969              The OA: Part I: Chapter 2: New Colossus\n",
       "1970                The OA: Part I: Chapter 1: Homecoming\n",
       "1971                                   The Imitation Game\n",
       "Name: Title, Length: 1972, dtype: object"
      ]
     },
     "execution_count": 10,
     "metadata": {},
     "output_type": "execute_result"
    }
   ],
   "source": [
    "# get title column\n",
    "netflix_data['Title']"
   ]
  },
  {
   "cell_type": "code",
   "execution_count": 11,
   "metadata": {},
   "outputs": [
    {
     "data": {
      "text/plain": [
       "10"
      ]
     },
     "execution_count": 11,
     "metadata": {},
     "output_type": "execute_result"
    }
   ],
   "source": [
    "#use .apply() function to find number of times 'show_1' appeared in Title column and give me sum\n",
    "netflix_data['Title'].apply(lambda title: show_1 in title).sum()"
   ]
  },
  {
   "cell_type": "markdown",
   "metadata": {},
   "source": [
    "f. When was the starting date of watching the show Bridgerton according to the data?\n"
   ]
  },
  {
   "cell_type": "code",
   "execution_count": 12,
   "metadata": {},
   "outputs": [],
   "source": [
    "#define name of second show\n",
    "show_2 = 'Bridgerton'"
   ]
  },
  {
   "cell_type": "code",
   "execution_count": 13,
   "metadata": {},
   "outputs": [
    {
     "data": {
      "text/html": [
       "<div>\n",
       "<style scoped>\n",
       "    .dataframe tbody tr th:only-of-type {\n",
       "        vertical-align: middle;\n",
       "    }\n",
       "\n",
       "    .dataframe tbody tr th {\n",
       "        vertical-align: top;\n",
       "    }\n",
       "\n",
       "    .dataframe thead th {\n",
       "        text-align: right;\n",
       "    }\n",
       "</style>\n",
       "<table border=\"1\" class=\"dataframe\">\n",
       "  <thead>\n",
       "    <tr style=\"text-align: right;\">\n",
       "      <th></th>\n",
       "      <th>Title</th>\n",
       "      <th>Date</th>\n",
       "    </tr>\n",
       "  </thead>\n",
       "  <tbody>\n",
       "    <tr>\n",
       "      <th>413</th>\n",
       "      <td>Bridgerton: Season 1: An Affair of Honor</td>\n",
       "      <td>1/8/21</td>\n",
       "    </tr>\n",
       "    <tr>\n",
       "      <th>414</th>\n",
       "      <td>Bridgerton: Season 1: Art of the Swoon</td>\n",
       "      <td>1/8/21</td>\n",
       "    </tr>\n",
       "    <tr>\n",
       "      <th>415</th>\n",
       "      <td>Bridgerton: Season 1: Shock and Delight</td>\n",
       "      <td>1/8/21</td>\n",
       "    </tr>\n",
       "    <tr>\n",
       "      <th>416</th>\n",
       "      <td>Bridgerton: Season 1: Diamond of the First Water</td>\n",
       "      <td>1/8/21</td>\n",
       "    </tr>\n",
       "    <tr>\n",
       "      <th>409</th>\n",
       "      <td>Bridgerton: Season 1: After the Rain</td>\n",
       "      <td>1/9/21</td>\n",
       "    </tr>\n",
       "    <tr>\n",
       "      <th>410</th>\n",
       "      <td>Bridgerton: Season 1: Oceans Apart</td>\n",
       "      <td>1/9/21</td>\n",
       "    </tr>\n",
       "    <tr>\n",
       "      <th>411</th>\n",
       "      <td>Bridgerton: Season 1: Swish</td>\n",
       "      <td>1/9/21</td>\n",
       "    </tr>\n",
       "    <tr>\n",
       "      <th>412</th>\n",
       "      <td>Bridgerton: Season 1: The Duke and I</td>\n",
       "      <td>1/9/21</td>\n",
       "    </tr>\n",
       "    <tr>\n",
       "      <th>15</th>\n",
       "      <td>Bridgerton: Season 2: Capital R Rake</td>\n",
       "      <td>3/26/22</td>\n",
       "    </tr>\n",
       "    <tr>\n",
       "      <th>13</th>\n",
       "      <td>Bridgerton: Season 2: A Bee in Your Bonnet</td>\n",
       "      <td>3/30/22</td>\n",
       "    </tr>\n",
       "    <tr>\n",
       "      <th>14</th>\n",
       "      <td>Bridgerton: Season 2: Off to the Races</td>\n",
       "      <td>3/30/22</td>\n",
       "    </tr>\n",
       "    <tr>\n",
       "      <th>11</th>\n",
       "      <td>Bridgerton: Season 2: An Unthinkable Fate</td>\n",
       "      <td>3/31/22</td>\n",
       "    </tr>\n",
       "    <tr>\n",
       "      <th>12</th>\n",
       "      <td>Bridgerton: Season 2: Victory</td>\n",
       "      <td>3/31/22</td>\n",
       "    </tr>\n",
       "    <tr>\n",
       "      <th>10</th>\n",
       "      <td>Bridgerton: Season 2: The Choice</td>\n",
       "      <td>4/2/22</td>\n",
       "    </tr>\n",
       "    <tr>\n",
       "      <th>9</th>\n",
       "      <td>Bridgerton: Season 2: Harmony</td>\n",
       "      <td>4/3/22</td>\n",
       "    </tr>\n",
       "    <tr>\n",
       "      <th>8</th>\n",
       "      <td>Bridgerton: Season 2: The Viscount Who Loved Me</td>\n",
       "      <td>4/4/22</td>\n",
       "    </tr>\n",
       "  </tbody>\n",
       "</table>\n",
       "</div>"
      ],
      "text/plain": [
       "                                                Title     Date\n",
       "413          Bridgerton: Season 1: An Affair of Honor   1/8/21\n",
       "414            Bridgerton: Season 1: Art of the Swoon   1/8/21\n",
       "415           Bridgerton: Season 1: Shock and Delight   1/8/21\n",
       "416  Bridgerton: Season 1: Diamond of the First Water   1/8/21\n",
       "409              Bridgerton: Season 1: After the Rain   1/9/21\n",
       "410                Bridgerton: Season 1: Oceans Apart   1/9/21\n",
       "411                       Bridgerton: Season 1: Swish   1/9/21\n",
       "412              Bridgerton: Season 1: The Duke and I   1/9/21\n",
       "15               Bridgerton: Season 2: Capital R Rake  3/26/22\n",
       "13         Bridgerton: Season 2: A Bee in Your Bonnet  3/30/22\n",
       "14             Bridgerton: Season 2: Off to the Races  3/30/22\n",
       "11          Bridgerton: Season 2: An Unthinkable Fate  3/31/22\n",
       "12                      Bridgerton: Season 2: Victory  3/31/22\n",
       "10                   Bridgerton: Season 2: The Choice   4/2/22\n",
       "9                       Bridgerton: Season 2: Harmony   4/3/22\n",
       "8     Bridgerton: Season 2: The Viscount Who Loved Me   4/4/22"
      ]
     },
     "execution_count": 13,
     "metadata": {},
     "output_type": "execute_result"
    }
   ],
   "source": [
    "# zoom in entries containing Bridgerton and sort by date in ascending order\n",
    "netflix_data.loc[[show_2 in title for title in netflix_data['Title']], :].sort_values('Date', ascending=True)"
   ]
  },
  {
   "cell_type": "code",
   "execution_count": 14,
   "metadata": {},
   "outputs": [
    {
     "data": {
      "text/plain": [
       "'1/8/21'"
      ]
     },
     "execution_count": 14,
     "metadata": {},
     "output_type": "execute_result"
    }
   ],
   "source": [
    "# pick the start date of watching show_2\n",
    "netflix_data.loc[[show_2 in title for title in netflix_data['Title']], :].sort_values('Date', ascending=True)['Date'].iloc[0]"
   ]
  },
  {
   "cell_type": "markdown",
   "metadata": {},
   "source": [
    "g. What is the title of the first episode of the show Bridgerton watched according to the data?"
   ]
  },
  {
   "cell_type": "code",
   "execution_count": 15,
   "metadata": {},
   "outputs": [
    {
     "data": {
      "text/plain": [
       "'Bridgerton: Season 1: An Affair of Honor'"
      ]
     },
     "execution_count": 15,
     "metadata": {},
     "output_type": "execute_result"
    }
   ],
   "source": [
    "#title of first episode of show_2 watched\n",
    "netflix_data.loc[[show_2 in title for title in netflix_data['Title']], :].sort_values('Date', ascending=True)['Title'].iloc[0]"
   ]
  },
  {
   "cell_type": "markdown",
   "metadata": {},
   "source": [
    "h. When was the last date of watching the show Bridgerton according to the data?"
   ]
  },
  {
   "cell_type": "code",
   "execution_count": 16,
   "metadata": {},
   "outputs": [
    {
     "data": {
      "text/plain": [
       "'4/4/22'"
      ]
     },
     "execution_count": 16,
     "metadata": {},
     "output_type": "execute_result"
    }
   ],
   "source": [
    "# zoom in entries containing Bridgerton and sort by date in descending order\n",
    "netflix_data.loc[[show_2 in title for title in netflix_data['Title']], :].sort_values('Date', ascending=False)['Date'].iloc[0]"
   ]
  },
  {
   "cell_type": "markdown",
   "metadata": {},
   "source": [
    "i. What is the title of the last episode of the show Bridgerton watched according to the data?"
   ]
  },
  {
   "cell_type": "code",
   "execution_count": 17,
   "metadata": {},
   "outputs": [
    {
     "data": {
      "text/plain": [
       "'Bridgerton: Season 2: The Viscount Who Loved Me'"
      ]
     },
     "execution_count": 17,
     "metadata": {},
     "output_type": "execute_result"
    }
   ],
   "source": [
    "#title of last episode of show_2 watched\n",
    "netflix_data.loc[[show_2 in title for title in netflix_data['Title']], :].sort_values('Date', ascending=False)['Title'].iloc[0]"
   ]
  }
 ],
 "metadata": {
  "kernelspec": {
   "display_name": "Python 3",
   "language": "python",
   "name": "python3"
  },
  "language_info": {
   "codemirror_mode": {
    "name": "ipython",
    "version": 3
   },
   "file_extension": ".py",
   "mimetype": "text/x-python",
   "name": "python",
   "nbconvert_exporter": "python",
   "pygments_lexer": "ipython3",
   "version": "3.8.5"
  }
 },
 "nbformat": 4,
 "nbformat_minor": 4
}
